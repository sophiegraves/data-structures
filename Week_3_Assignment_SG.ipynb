{
  "nbformat": 4,
  "nbformat_minor": 0,
  "metadata": {
    "colab": {
      "provenance": [],
      "authorship_tag": "ABX9TyOsHEGmdVK6EFQd+TJr0GDQ",
      "include_colab_link": true
    },
    "kernelspec": {
      "name": "python3",
      "display_name": "Python 3"
    },
    "language_info": {
      "name": "python"
    }
  },
  "cells": [
    {
      "cell_type": "markdown",
      "metadata": {
        "id": "view-in-github",
        "colab_type": "text"
      },
      "source": [
        "<a href=\"https://colab.research.google.com/github/sophiegraves/data-structures/blob/main/Copy_of_Week_3_Assignment.ipynb\" target=\"_parent\"><img src=\"https://colab.research.google.com/assets/colab-badge.svg\" alt=\"Open In Colab\"/></a>"
      ]
    },
    {
      "cell_type": "code",
      "source": [
        "aa_meetings = [\n",
        "    [\"SRO Building\", \"A Chance To Live Again\", \"109 West 129th Street, Basement\", \"Lenox Avenue\", \"10027\", \"Wednesdays\", \"6:00 PM\", \"7:00 PM\", \"Wheelchair Accessible\", \"BB = Big Book meeting\"],\n",
        "    [\"SRO Building\", \"A Chance To Live Again\", \"109 West 129th Street, Basement\", \"Lenox Avenue\", \"10027\", \"Mondays\", \"7:00 PM\", \"8:00 PM\", \"Wheelchair Accessible\", \"B = Beginner\"],\n",
        "    [\"Union Baptist Church\", \"AA It Works II\", \"240 West 145th Street\", \"Betw 7th & 8th Avenues\", \"10039\", \"Tuesdays\", \"10:00 AM\", \"11:00 AM\", \"Wheelchair Accessible\", \"OD = Open Discussion meeting\"],\n",
        "    [\"Union Baptist Church\", \"AA It Works II\", \"240 West 145th Street\", \"Betw 7th & 8th Avenues\", \"10039\", \"Wednesdays\", \"10:00 AM\", \"11:00 AM\", \"Wheelchair Accessible\", \"B = Beginners meeting\"],\n",
        "    [\"Union Baptist Church\", \"AA It Works II\", \"240 West 145th Street\", \"Betw 7th & 8th Avenues\", \"10039\", \"Thursdays\", \"10:00 AM\", \"11:00 AM\", \"Wheelchair Accessible\", \"BB = Big Book meeting\"],\n",
        "    [\"Union Baptist Church\", \"AA It Works II\", \"240 West 145th Street\", \"Betw 7th & 8th Avenues\", \"10039\", \"Fridays\", \"10:00 AM\", \"11:00 AM\", \"Wheelchair Accessible\", \"S = Step meeting\"],\n",
        "    [\"Our Lady of Lourdes Church\", \"Attitude Adjustment\", \"469 West 142nd Street, Basement\", \"Betw Convent & Amsterdam Avenues\", \"10031\", \"Saturdays\", \"7:30 AM\", \"8:30 AM\", \"Not Wheelchair Accessible\", \"OD = Open Discussion meeting\"]]"
      ],
      "metadata": {
        "id": "6ewCEprv1qCg"
      },
      "execution_count": null,
      "outputs": []
    },
    {
      "cell_type": "code",
      "source": [
        "print(aa_meetings)"
      ],
      "metadata": {
        "colab": {
          "base_uri": "https://localhost:8080/"
        },
        "id": "QscCn60R2EMs",
        "outputId": "823cc4ad-5b0e-46ba-a20e-0da50fb17bde"
      },
      "execution_count": null,
      "outputs": [
        {
          "output_type": "stream",
          "name": "stdout",
          "text": [
            "[['SRO Building', 'A Chance To Live Again', '109 West 129th Street, Basement', 'Lenox Avenue', '10027', 'Wednesdays', '6:00 PM', '7:00 PM', 'Wheelchair Accessible', 'BB = Big Book meeting'], ['SRO Building', 'A Chance To Live Again', '109 West 129th Street, Basement', 'Lenox Avenue', '10027', 'Mondays', '7:00 PM', '8:00 PM', 'Wheelchair Accessible', 'B = Beginner'], ['Union Baptist Church', 'AA It Works II', '240 West 145th Street', 'Betw 7th & 8th Avenues', '10039', 'Tuesdays', '10:00 AM', '11:00 AM', 'Wheelchair Accessible', 'OD = Open Discussion meeting'], ['Union Baptist Church', 'AA It Works II', '240 West 145th Street', 'Betw 7th & 8th Avenues', '10039', 'Wednesdays', '10:00 AM', '11:00 AM', 'Wheelchair Accessible', 'B = Beginners meeting'], ['Union Baptist Church', 'AA It Works II', '240 West 145th Street', 'Betw 7th & 8th Avenues', '10039', 'Thursdays', '10:00 AM', '11:00 AM', 'Wheelchair Accessible', 'BB = Big Book meeting'], ['Union Baptist Church', 'AA It Works II', '240 West 145th Street', 'Betw 7th & 8th Avenues', '10039', 'Fridays', '10:00 AM', '11:00 AM', 'Wheelchair Accessible', 'S = Step meeting'], ['Our Lady of Lourdes Church', 'Attitude Adjustment', '469 West 142nd Street, Basement', 'Betw Convent & Amsterdam Avenues', '10031', 'Saturdays', '7:30 AM', '8:30 AM', 'Not Wheelchair Accessible', 'OD = Open Discussion meeting']]\n"
          ]
        }
      ]
    }
  ]
}
