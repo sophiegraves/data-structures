{
  "nbformat": 4,
  "nbformat_minor": 0,
  "metadata": {
    "colab": {
      "provenance": [],
      "include_colab_link": true
    },
    "kernelspec": {
      "name": "python3",
      "display_name": "Python 3"
    },
    "language_info": {
      "name": "python"
    }
  },
  "cells": [
    {
      "cell_type": "markdown",
      "metadata": {
        "id": "view-in-github",
        "colab_type": "text"
      },
      "source": [
        "<a href=\"https://colab.research.google.com/github/sophiegraves/data-structures/blob/main/week04_SG.ipynb\" target=\"_parent\"><img src=\"https://colab.research.google.com/assets/colab-badge.svg\" alt=\"Open In Colab\"/></a>"
      ]
    },
    {
      "cell_type": "code",
      "execution_count": 87,
      "metadata": {
        "id": "jbOhI5xnV7co"
      },
      "outputs": [],
      "source": [
        "m1 = \"\"\"\n",
        "                  <tr style=\"margin-bottom:10px\">\n",
        "                    <td style=\"border-bottom:1px solid #e3e3e3; width:260px\" valign=\"top\">\n",
        "                    \t<h4 style=\"margin:0;padding:0;\">SRO Building</h4><br />\n",
        "\t\t\t\t  \t    <b>A CHANCE TO LIVE AGAIN - A Chance To Live Again</b><br />\n",
        "\t\t\t\t\t\t109 West 129th Street,  Basement,\n",
        "\t\t\t\t\t\t<br />(@ Lenox Avenue) NY 10027\n",
        "\t\t\t\t\t\t<br />\n",
        "\t\t\t\t\t\t<br />\n",
        "\n",
        "\t\t\t\t\t\t<span style=\"color:darkblue; font-size:10pt;\">\n",
        "                        <img src=\"../images/wheelchair.jpg\" alt=\"Wheelchair Access\" width=\"20\" vspace=\"5\" hspace=\"10\" align=\"absmiddle\"/>Wheelchair access\n",
        "                        </span>\n",
        "\n",
        "\n",
        "                    </td>\n",
        "                    <td style=\"border-bottom:1px solid #e3e3e3;width:350px;\" valign=\"top\">\n",
        "\n",
        "\t\t\t\t  \t    <b>Wednesdays From</b>  6:00 PM <b>to</b> 7:00 PM <br /><b>Meeting Type</b> BB = Big Book meeting\n",
        "\t\t\t \t\t\t<br />\n",
        "                    \t<br />\n",
        "\n",
        "\t\t\t\t  \t    <b>Mondays From</b>  7:00 PM <b>to</b> 8:00 PM <br /><b>Meeting Type</b> B = Beginners meeting\n",
        "\t\t\t \t\t\t<br />\n",
        "                    \t<br />\n",
        "\n",
        "\t\t\t\t\t</td>\n",
        "                    <td style=\"border-bottom:1px solid #dedede; width:90px; \">\n",
        "                    \t<a href=\"getdirections.cfm?meetingid=32\" class=\"GetDirections\">Get Directions</a>\n",
        "                    </td>\n",
        "                  </tr>\n",
        "\"\"\""
      ]
    },
    {
      "cell_type": "code",
      "source": [
        "print(m1)"
      ],
      "metadata": {
        "colab": {
          "base_uri": "https://localhost:8080/"
        },
        "id": "Vy7YBdSHWlBP",
        "outputId": "4f0ae3c3-cfe1-4b91-ebaf-8312318c796c"
      },
      "execution_count": 88,
      "outputs": [
        {
          "output_type": "stream",
          "name": "stdout",
          "text": [
            "\n",
            "                  <tr style=\"margin-bottom:10px\">\n",
            "                    <td style=\"border-bottom:1px solid #e3e3e3; width:260px\" valign=\"top\">\n",
            "                    \t<h4 style=\"margin:0;padding:0;\">SRO Building</h4><br />\n",
            "\t\t\t\t  \t    <b>A CHANCE TO LIVE AGAIN - A Chance To Live Again</b><br />\n",
            "\t\t\t\t\t\t109 West 129th Street,  Basement,\n",
            "\t\t\t\t\t\t<br />(@ Lenox Avenue) NY 10027\n",
            "\t\t\t\t\t\t<br />\n",
            "\t\t\t\t\t\t<br />\n",
            "\n",
            "\t\t\t\t\t\t<span style=\"color:darkblue; font-size:10pt;\">\n",
            "                        <img src=\"../images/wheelchair.jpg\" alt=\"Wheelchair Access\" width=\"20\" vspace=\"5\" hspace=\"10\" align=\"absmiddle\"/>Wheelchair access\n",
            "                        </span>\n",
            "\n",
            "\n",
            "                    </td>\n",
            "                    <td style=\"border-bottom:1px solid #e3e3e3;width:350px;\" valign=\"top\">\n",
            "\n",
            "\t\t\t\t  \t    <b>Wednesdays From</b>  6:00 PM <b>to</b> 7:00 PM <br /><b>Meeting Type</b> BB = Big Book meeting\n",
            "\t\t\t \t\t\t<br />\n",
            "                    \t<br />\n",
            "\n",
            "\t\t\t\t  \t    <b>Mondays From</b>  7:00 PM <b>to</b> 8:00 PM <br /><b>Meeting Type</b> B = Beginners meeting\n",
            "\t\t\t \t\t\t<br />\n",
            "                    \t<br />\n",
            "\n",
            "\t\t\t\t\t</td>\n",
            "                    <td style=\"border-bottom:1px solid #dedede; width:90px; \">\n",
            "                    \t<a href=\"getdirections.cfm?meetingid=32\" class=\"GetDirections\">Get Directions</a>\n",
            "                    </td>\n",
            "                  </tr>\n",
            "\n"
          ]
        }
      ]
    },
    {
      "cell_type": "code",
      "source": [
        "step_one = m1.split(\" - \")\n",
        "\n",
        "meeting_group_name = step_one[1].split(\"</b><br />\")[0]\n",
        "\n",
        "print(meeting_group_name)"
      ],
      "metadata": {
        "colab": {
          "base_uri": "https://localhost:8080/"
        },
        "id": "Tct3bva84V45",
        "outputId": "1aed944f-37ba-4d3e-cbad-ff4657e7cb9f"
      },
      "execution_count": 101,
      "outputs": [
        {
          "output_type": "stream",
          "name": "stdout",
          "text": [
            "A Chance To Live Again\n"
          ]
        }
      ]
    },
    {
      "cell_type": "code",
      "source": [
        "step_two = m1.split('<h4 style=\"margin:0;padding:0;\">')\n",
        "\n",
        "building_name = step_two[1].split(\"</h4>\")[0]\n",
        "print(building_name)"
      ],
      "metadata": {
        "colab": {
          "base_uri": "https://localhost:8080/"
        },
        "id": "dDeiLF0sQnt_",
        "outputId": "33c85865-bf80-4545-e75d-b37452cbf0e9"
      },
      "execution_count": 102,
      "outputs": [
        {
          "output_type": "stream",
          "name": "stdout",
          "text": [
            "SRO Building\n"
          ]
        }
      ]
    },
    {
      "cell_type": "code",
      "source": [
        "step_three = m1.split(\"</b><br />\")\n",
        "\n",
        "meeting_address_indented = step_three[1].split(\",\")[0]\n",
        "\n",
        "meeting_address = meeting_address_indented.strip()\n",
        "\n",
        "print(meeting_address)"
      ],
      "metadata": {
        "colab": {
          "base_uri": "https://localhost:8080/"
        },
        "id": "72YRHbFpZput",
        "outputId": "58f5bef8-a7f9-4ee6-fe7b-587efa9f4e13"
      },
      "execution_count": 103,
      "outputs": [
        {
          "output_type": "stream",
          "name": "stdout",
          "text": [
            "109 West 129th Street\n"
          ]
        }
      ]
    },
    {
      "cell_type": "code",
      "source": [
        "step_four = m1.split(\"<br />(\")\n",
        "\n",
        "meeting_xstreets_indented = step_four[1].split(\") NY\")[0]\n",
        "\n",
        "meeting_xstreets = meeting_xstreets_indented.strip()\n",
        "\n",
        "print(meeting_xstreets)"
      ],
      "metadata": {
        "colab": {
          "base_uri": "https://localhost:8080/"
        },
        "id": "GIjpi0F4OBbS",
        "outputId": "44b9598d-3d3c-4acb-a527-b5f1ebb00508"
      },
      "execution_count": 104,
      "outputs": [
        {
          "output_type": "stream",
          "name": "stdout",
          "text": [
            "@ Lenox Avenue\n"
          ]
        }
      ]
    },
    {
      "cell_type": "code",
      "source": [
        "step_five = m1.split(\"NY\")\n",
        "\n",
        "meeting_zip_indented = step_five[1].split(\"<br />\")[0]\n",
        "\n",
        "meeting_zip = meeting_zip_indented.strip()\n",
        "\n",
        "print(meeting_zip)"
      ],
      "metadata": {
        "colab": {
          "base_uri": "https://localhost:8080/"
        },
        "id": "sNlY7c16bGHO",
        "outputId": "e6427db3-55da-4320-f655-cc8c67aa86ec"
      },
      "execution_count": 105,
      "outputs": [
        {
          "output_type": "stream",
          "name": "stdout",
          "text": [
            "10027\n"
          ]
        }
      ]
    },
    {
      "cell_type": "code",
      "source": [
        "if \"Wheelchair access\" in m1:\n",
        "  meeting_wheelaccess = \"Access\"\n",
        "else:\n",
        "  meeting_wheelaccess = \"No access\"\n",
        "\n",
        "print(meeting_wheelaccess)"
      ],
      "metadata": {
        "colab": {
          "base_uri": "https://localhost:8080/"
        },
        "id": "5FPz2bDCCyig",
        "outputId": "0f8dd24c-d011-4a23-dd66-0b95e8058fe6"
      },
      "execution_count": 282,
      "outputs": [
        {
          "output_type": "stream",
          "name": "stdout",
          "text": [
            "Access\n"
          ]
        }
      ]
    },
    {
      "cell_type": "code",
      "source": [
        "step_seven = m1.split('<td style=\"border-bottom:1px solid #e3e3e3;width:350px;\" valign=\"top\">')\n",
        "\n",
        "meeting_day = []\n",
        "\n",
        "for meeting in step_seven:\n",
        "  if \"Mondays\" in meeting:\n",
        "    meeting_day.append(\"Monday\")\n",
        "  if \"Tuesdays\" in meeting:\n",
        "    meeting_day.append(\"Tuesday\")\n",
        "  if \"Wednesdays\" in meeting:\n",
        "    meeting_day.append(\"Wednesday\")\n",
        "  if \"Thursdays\" in meeting:\n",
        "    meeting_day.append(\"Thursday\")\n",
        "  if \"Fridays\" in meeting:\n",
        "    meeting_day.append(\"Friday\")\n",
        "  if \"Saturdays\" in meeting:\n",
        "    meeting_day.append(\"Saturday\")\n",
        "  if \"Sundays\" in meeting:\n",
        "    meeting_day.append(\"Sunday\")\n",
        "\n",
        "print(meeting_day)\n",
        "\n"
      ],
      "metadata": {
        "colab": {
          "base_uri": "https://localhost:8080/"
        },
        "id": "Id34ydqtidOK",
        "outputId": "dde88a90-d93e-4d2c-ffb7-6a499e636622"
      },
      "execution_count": 290,
      "outputs": [
        {
          "output_type": "stream",
          "name": "stdout",
          "text": [
            "['Monday', 'Wednesday']\n"
          ]
        }
      ]
    },
    {
      "cell_type": "code",
      "source": [
        "meeting_start = []\n",
        "\n",
        "step_eight = step_seven[1].split(\"From</b>\")\n",
        "\n",
        "for start in step_eight:\n",
        "    get_start = start.split(\"<b>to</b>\")[0].strip()\n",
        "    if \"days\" not in get_start:\n",
        "        meeting_start.append(get_start)\n",
        "\n",
        "print(meeting_start)\n"
      ],
      "metadata": {
        "colab": {
          "base_uri": "https://localhost:8080/"
        },
        "id": "N_ncA932f8cJ",
        "outputId": "fee95689-10b7-4188-faf3-0467b564b834"
      },
      "execution_count": 250,
      "outputs": [
        {
          "output_type": "stream",
          "name": "stdout",
          "text": [
            "['6:00 PM', '7:00 PM']\n"
          ]
        }
      ]
    },
    {
      "cell_type": "code",
      "source": [
        "meeting_end = []\n",
        "\n",
        "step_nine = step_seven[1].split(\"<b>to</b>\")\n",
        "\n",
        "for time in step_nine:\n",
        "  get_end = time.split(\"<br /><b>Meeting Type</b>\")[0].strip()\n",
        "  if \"days\" not in get_end:\n",
        "    meeting_end.append(get_end)\n",
        "\n",
        "print(meeting_end)"
      ],
      "metadata": {
        "colab": {
          "base_uri": "https://localhost:8080/"
        },
        "id": "Jw0FWYV72ibO",
        "outputId": "7baef78c-f158-460d-eead-ffc2413d8c58"
      },
      "execution_count": 252,
      "outputs": [
        {
          "output_type": "stream",
          "name": "stdout",
          "text": [
            "['7:00 PM', '8:00 PM']\n"
          ]
        }
      ]
    },
    {
      "cell_type": "code",
      "source": [
        "meeting_type = []\n",
        "\n",
        "step_ten = step_seven[1].split(\"<b>Meeting Type</b>\")\n",
        "\n",
        "for meeting in step_ten:\n",
        "  get_meeting_type = meeting.split(\"<br />\")[0].strip()\n",
        "  if \"<b>\" not in get_meeting_type:\n",
        "    meeting_type.append(get_meeting_type)\n",
        "\n",
        "print(meeting_type)"
      ],
      "metadata": {
        "colab": {
          "base_uri": "https://localhost:8080/"
        },
        "id": "cfGK836fwf2c",
        "outputId": "2bfd3588-6857-4012-c4cb-187e7cb59f8d"
      },
      "execution_count": 259,
      "outputs": [
        {
          "output_type": "stream",
          "name": "stdout",
          "text": [
            "['BB = Big Book meeting', 'B = Beginners meeting']\n"
          ]
        }
      ]
    },
    {
      "cell_type": "code",
      "source": [
        "m2 = \"\"\"\n",
        "                  <tr style=\"margin-bottom:10px\">\n",
        "                    <td style=\"border-bottom:1px solid #e3e3e3; width:260px\" valign=\"top\">\n",
        "                    \t<h4 style=\"margin:0;padding:0;\">Union Baptist Church</h4><br />\n",
        "\t\t\t\t  \t    <b>AA IT WORKS  II - AA It Works II</b><br />\n",
        "\t\t\t\t\t\t240 West 145th Street,\n",
        "\t\t\t\t\t\t<br />(Betw 7th & 8th Avenues) NY 10039\n",
        "\t\t\t\t\t\t<br />\n",
        "\t\t\t\t\t\t<br />\n",
        "\n",
        "                        <div class=\"detailsBox\">\n",
        "                        \tThu=Altern.BB, Living Sober & Other A.A. Literature. <br />Fri.=Alternates between Step & Tradition.\n",
        "                        </div>\n",
        "\n",
        "\t\t\t\t\t\t<span style=\"color:darkblue; font-size:10pt;\">\n",
        "                        <img src=\"../images/wheelchair.jpg\" alt=\"Wheelchair Access\" width=\"20\" vspace=\"5\" hspace=\"10\" align=\"absmiddle\"/>Wheelchair access\n",
        "                        </span>\n",
        "\n",
        "\n",
        "                    </td>\n",
        "                    <td style=\"border-bottom:1px solid #e3e3e3;width:350px;\" valign=\"top\">\n",
        "\n",
        "\t\t\t\t  \t    <b>Wednesdays From</b>  10:00 AM <b>to</b> 11:00 AM <br /><b>Meeting Type</b> B = Beginners meeting\n",
        "\t\t\t \t\t\t<br />\n",
        "                    \t<br />\n",
        "\n",
        "\t\t\t\t  \t    <b>Thursdays From</b>  10:00 AM <b>to</b> 11:00 AM <br /><b>Meeting Type</b> BB = Big Book meeting\n",
        "\t\t\t \t\t\t<br />\n",
        "                    \t<br />\n",
        "\n",
        "\t\t\t\t  \t    <b>Fridays From</b>  10:00 AM <b>to</b> 11:00 AM <br /><b>Meeting Type</b> S = Step meeting\n",
        "\t\t\t \t\t\t<br />\n",
        "                    \t<br />\n",
        "\n",
        "\t\t\t\t  \t    <b>Tuesdays From</b>  10:00 AM <b>to</b> 11:00 AM <br /><b>Meeting Type</b> OD = Open Discussion meeting\n",
        "\t\t\t \t\t\t<br />\n",
        "                    \t<br />\n",
        "\n",
        "\t\t\t\t\t</td>\n",
        "                    <td style=\"border-bottom:1px solid #dedede; width:90px; \">\n",
        "                    \t<a href=\"getdirections.cfm?meetingid=36\" class=\"GetDirections\">Get Directions</a>\n",
        "                    </td>\n",
        "                  </tr>\n",
        "\"\"\""
      ],
      "metadata": {
        "id": "FLlPDaQqV_aY"
      },
      "execution_count": 261,
      "outputs": []
    },
    {
      "cell_type": "code",
      "source": [
        "print(m2)"
      ],
      "metadata": {
        "colab": {
          "base_uri": "https://localhost:8080/"
        },
        "id": "yZwy1fFEWoMY",
        "outputId": "33f516f5-e3ff-4165-a7f7-6c536025f25f"
      },
      "execution_count": 262,
      "outputs": [
        {
          "output_type": "stream",
          "name": "stdout",
          "text": [
            "\n",
            "                  <tr style=\"margin-bottom:10px\">\n",
            "                    <td style=\"border-bottom:1px solid #e3e3e3; width:260px\" valign=\"top\">\n",
            "                    \t<h4 style=\"margin:0;padding:0;\">Union Baptist Church</h4><br />\n",
            "\t\t\t\t  \t    <b>AA IT WORKS  II - AA It Works II</b><br />\n",
            "\t\t\t\t\t\t240 West 145th Street,\n",
            "\t\t\t\t\t\t<br />(Betw 7th & 8th Avenues) NY 10039\n",
            "\t\t\t\t\t\t<br />\n",
            "\t\t\t\t\t\t<br />\n",
            "\n",
            "                        <div class=\"detailsBox\">\n",
            "                        \tThu=Altern.BB, Living Sober & Other A.A. Literature. <br />Fri.=Alternates between Step & Tradition.\n",
            "                        </div>\n",
            "\n",
            "\t\t\t\t\t\t<span style=\"color:darkblue; font-size:10pt;\">\n",
            "                        <img src=\"../images/wheelchair.jpg\" alt=\"Wheelchair Access\" width=\"20\" vspace=\"5\" hspace=\"10\" align=\"absmiddle\"/>Wheelchair access\n",
            "                        </span>\n",
            "\n",
            "\n",
            "                    </td>\n",
            "                    <td style=\"border-bottom:1px solid #e3e3e3;width:350px;\" valign=\"top\">\n",
            "\n",
            "\t\t\t\t  \t    <b>Wednesdays From</b>  10:00 AM <b>to</b> 11:00 AM <br /><b>Meeting Type</b> B = Beginners meeting\n",
            "\t\t\t \t\t\t<br />\n",
            "                    \t<br />\n",
            "\n",
            "\t\t\t\t  \t    <b>Thursdays From</b>  10:00 AM <b>to</b> 11:00 AM <br /><b>Meeting Type</b> BB = Big Book meeting\n",
            "\t\t\t \t\t\t<br />\n",
            "                    \t<br />\n",
            "\n",
            "\t\t\t\t  \t    <b>Fridays From</b>  10:00 AM <b>to</b> 11:00 AM <br /><b>Meeting Type</b> S = Step meeting\n",
            "\t\t\t \t\t\t<br />\n",
            "                    \t<br />\n",
            "\n",
            "\t\t\t\t  \t    <b>Tuesdays From</b>  10:00 AM <b>to</b> 11:00 AM <br /><b>Meeting Type</b> OD = Open Discussion meeting\n",
            "\t\t\t \t\t\t<br />\n",
            "                    \t<br />\n",
            "\n",
            "\t\t\t\t\t</td>\n",
            "                    <td style=\"border-bottom:1px solid #dedede; width:90px; \">\n",
            "                    \t<a href=\"getdirections.cfm?meetingid=36\" class=\"GetDirections\">Get Directions</a>\n",
            "                    </td>\n",
            "                  </tr>\n",
            "\n"
          ]
        }
      ]
    },
    {
      "cell_type": "code",
      "source": [
        "step_one = m2.split(\" - \")\n",
        "\n",
        "meeting_group_name = step_one[1].split(\"</b><br />\")[0]\n",
        "\n",
        "print(meeting_group_name)"
      ],
      "metadata": {
        "colab": {
          "base_uri": "https://localhost:8080/"
        },
        "id": "VI-4kxqdAf0I",
        "outputId": "ef274c9c-53a2-43e3-85c6-7a6d9b018aaf"
      },
      "execution_count": 263,
      "outputs": [
        {
          "output_type": "stream",
          "name": "stdout",
          "text": [
            "AA It Works II\n"
          ]
        }
      ]
    },
    {
      "cell_type": "code",
      "source": [
        "step_two = m2.split('<h4 style=\"margin:0;padding:0;\">')\n",
        "\n",
        "building_name = step_two[1].split(\"</h4>\")[0]\n",
        "print(building_name)"
      ],
      "metadata": {
        "colab": {
          "base_uri": "https://localhost:8080/"
        },
        "id": "TOnosTvKAmqZ",
        "outputId": "8da92e40-0a91-4eb2-b86a-6f35de92961e"
      },
      "execution_count": 264,
      "outputs": [
        {
          "output_type": "stream",
          "name": "stdout",
          "text": [
            "Union Baptist Church\n"
          ]
        }
      ]
    },
    {
      "cell_type": "code",
      "source": [
        "step_three = m2.split(\"</b><br />\")\n",
        "\n",
        "meeting_address_indented = step_three[1].split(\",\")[0]\n",
        "\n",
        "meeting_address = meeting_address_indented.strip()\n",
        "\n",
        "print(meeting_address)"
      ],
      "metadata": {
        "colab": {
          "base_uri": "https://localhost:8080/"
        },
        "id": "6YCG0GvyA7Aw",
        "outputId": "810750c0-600a-4833-8378-4bec998043bf"
      },
      "execution_count": 265,
      "outputs": [
        {
          "output_type": "stream",
          "name": "stdout",
          "text": [
            "240 West 145th Street\n"
          ]
        }
      ]
    },
    {
      "cell_type": "code",
      "source": [
        "step_four = m2.split(\"<br />(\")\n",
        "\n",
        "meeting_xstreets_indented = step_four[1].split(\") NY\")[0]\n",
        "\n",
        "meeting_xstreets = meeting_xstreets_indented.strip()\n",
        "\n",
        "print(meeting_xstreets)"
      ],
      "metadata": {
        "colab": {
          "base_uri": "https://localhost:8080/"
        },
        "id": "4Rp-HQt3A9H6",
        "outputId": "cd7f5447-86dd-4500-bfe9-d3718e90e015"
      },
      "execution_count": 266,
      "outputs": [
        {
          "output_type": "stream",
          "name": "stdout",
          "text": [
            "Betw 7th & 8th Avenues\n"
          ]
        }
      ]
    },
    {
      "cell_type": "code",
      "source": [
        "step_five = m2.split(\"NY\")\n",
        "\n",
        "meeting_zip_indented = step_five[1].split(\"<br />\")[0]\n",
        "\n",
        "meeting_zip = meeting_zip_indented.strip()\n",
        "\n",
        "print(meeting_zip)"
      ],
      "metadata": {
        "colab": {
          "base_uri": "https://localhost:8080/"
        },
        "id": "jbHuwOTsBHU-",
        "outputId": "30257c48-3b5e-41cb-f387-1ab61a42cf13"
      },
      "execution_count": 267,
      "outputs": [
        {
          "output_type": "stream",
          "name": "stdout",
          "text": [
            "10039\n"
          ]
        }
      ]
    },
    {
      "cell_type": "code",
      "source": [
        "if \"Wheelchair access\" in m2:\n",
        "  meeting_wheelaccess = \"Access\"\n",
        "else:\n",
        "  meeting_wheelaccess = \"No access\"\n",
        "\n",
        "print(meeting_wheelaccess)"
      ],
      "metadata": {
        "colab": {
          "base_uri": "https://localhost:8080/"
        },
        "id": "LZ8om9gSBMni",
        "outputId": "8f1c100e-c395-4de0-a4ce-88b1019fad58"
      },
      "execution_count": 286,
      "outputs": [
        {
          "output_type": "stream",
          "name": "stdout",
          "text": [
            "Access\n"
          ]
        }
      ]
    },
    {
      "cell_type": "code",
      "source": [
        "step_seven = m2.split('<td style=\"border-bottom:1px solid #e3e3e3;width:350px;\" valign=\"top\">')\n",
        "\n",
        "meeting_day = []\n",
        "\n",
        "for meeting in step_seven:\n",
        "  if \"Mondays\" in meeting:\n",
        "    meeting_day.append(\"Monday\")\n",
        "  if \"Tuesdays\" in meeting:\n",
        "    meeting_day.append(\"Tuesday\")\n",
        "  if \"Wednesdays\" in meeting:\n",
        "    meeting_day.append(\"Wednesday\")\n",
        "  if \"Thursdays\" in meeting:\n",
        "    meeting_day.append(\"Thursday\")\n",
        "  if \"Fridays\" in meeting:\n",
        "    meeting_day.append(\"Friday\")\n",
        "  if \"Saturdays\" in meeting:\n",
        "    meeting_day.append(\"Saturday\")\n",
        "  if \"Sundays\" in meeting:\n",
        "    meeting_day.append(\"Sunday\")\n",
        "\n",
        "print(meeting_day)"
      ],
      "metadata": {
        "colab": {
          "base_uri": "https://localhost:8080/"
        },
        "id": "IMDRVXL0A3Fd",
        "outputId": "e4e6f5db-6315-40d0-ae3e-42d3231b3a56"
      },
      "execution_count": 289,
      "outputs": [
        {
          "output_type": "stream",
          "name": "stdout",
          "text": [
            "['Tuesday', 'Wednesday', 'Thursday', 'Friday']\n"
          ]
        }
      ]
    },
    {
      "cell_type": "code",
      "source": [
        "meeting_start = []\n",
        "\n",
        "step_eight = step_seven[1].split(\"From</b>\")\n",
        "\n",
        "for start in step_eight:\n",
        "    get_start = start.split(\"<b>to</b>\")[0].strip()\n",
        "    if \"days\" not in get_start:\n",
        "        meeting_start.append(get_start)\n",
        "\n",
        "print(meeting_start)"
      ],
      "metadata": {
        "colab": {
          "base_uri": "https://localhost:8080/"
        },
        "id": "M4fluzBgBZ_x",
        "outputId": "69245d8f-1b69-4459-d07d-b6967518aae3"
      },
      "execution_count": 271,
      "outputs": [
        {
          "output_type": "stream",
          "name": "stdout",
          "text": [
            "['10:00 AM', '10:00 AM', '10:00 AM', '10:00 AM']\n"
          ]
        }
      ]
    },
    {
      "cell_type": "code",
      "source": [
        "meeting_end = []\n",
        "\n",
        "step_nine = step_seven[1].split(\"<b>to</b>\")\n",
        "\n",
        "for time in step_nine:\n",
        "  get_end = time.split(\"<br /><b>Meeting Type</b>\")[0].strip()\n",
        "  if \"days\" not in get_end:\n",
        "    meeting_end.append(get_end)\n",
        "\n",
        "print(meeting_end)"
      ],
      "metadata": {
        "colab": {
          "base_uri": "https://localhost:8080/"
        },
        "id": "cVmCkm0FBm4A",
        "outputId": "f720de26-4a7c-4c46-9e22-ec2f21e69f05"
      },
      "execution_count": 272,
      "outputs": [
        {
          "output_type": "stream",
          "name": "stdout",
          "text": [
            "['11:00 AM', '11:00 AM', '11:00 AM', '11:00 AM']\n"
          ]
        }
      ]
    },
    {
      "cell_type": "code",
      "source": [
        "meeting_type = []\n",
        "\n",
        "step_ten = step_seven[1].split(\"<b>Meeting Type</b>\")\n",
        "\n",
        "for meeting in step_ten:\n",
        "  get_meeting_type = meeting.split(\"<br />\")[0].strip()\n",
        "  if \"<b>\" not in get_meeting_type:\n",
        "    meeting_type.append(get_meeting_type)\n",
        "\n",
        "print(meeting_type)"
      ],
      "metadata": {
        "colab": {
          "base_uri": "https://localhost:8080/"
        },
        "id": "Y43tO2IkBo-7",
        "outputId": "fb2db879-8514-4d34-8e2c-02f44ab02ff7"
      },
      "execution_count": 273,
      "outputs": [
        {
          "output_type": "stream",
          "name": "stdout",
          "text": [
            "['B = Beginners meeting', 'BB = Big Book meeting', 'S = Step meeting', 'OD = Open Discussion meeting']\n"
          ]
        }
      ]
    },
    {
      "cell_type": "code",
      "source": [
        "m3 = \"\"\"\n",
        "                  <tr style=\"margin-bottom:10px\">\n",
        "                    <td style=\"border-bottom:1px solid #e3e3e3; width:260px\" valign=\"top\">\n",
        "                    \t<h4 style=\"margin:0;padding:0;\">Our Lady of Lourdes Church</h4><br />\n",
        "\t\t\t\t  \t    <b>ATTITUDE ADJUSTMENT - Attitude Adjustment</b><br />\n",
        "\t\t\t\t\t\t469 West 142nd Street, Basement,\n",
        "\t\t\t\t\t\t<br />(Betw Convent & Amsterdam Avenues) NY 10031\n",
        "\t\t\t\t\t\t<br />\n",
        "\t\t\t\t\t\t<br />\n",
        "\n",
        "                        <div class=\"detailsBox\">\n",
        "                        \tTopic 1st Saturday.\n",
        "                        </div>\n",
        "\n",
        "\n",
        "                    </td>\n",
        "                    <td style=\"border-bottom:1px solid #e3e3e3;width:350px;\" valign=\"top\">\n",
        "\n",
        "\t\t\t\t  \t    <b>Saturdays From</b>  7:30 AM <b>to</b> 8:30 AM <br /><b>Meeting Type</b> OD = Open Discussion meeting\n",
        "\t\t\t \t\t\t<br />\n",
        "                    \t<br />\n",
        "\n",
        "\t\t\t\t\t</td>\n",
        "                    <td style=\"border-bottom:1px solid #dedede; width:90px; \">\n",
        "                    \t<a href=\"getdirections.cfm?meetingid=58\" class=\"GetDirections\">Get Directions</a>\n",
        "                    </td>\n",
        "                  </tr>\n",
        "\"\"\""
      ],
      "metadata": {
        "id": "_SHedmHuWciy"
      },
      "execution_count": 274,
      "outputs": []
    },
    {
      "cell_type": "code",
      "source": [
        "step_one = m3.split(\" - \")\n",
        "\n",
        "meeting_group_name = step_one[1].split(\"</b><br />\")[0]\n",
        "\n",
        "print(meeting_group_name)"
      ],
      "metadata": {
        "colab": {
          "base_uri": "https://localhost:8080/"
        },
        "id": "hVVH45YbBy6V",
        "outputId": "a452cded-0e2d-4628-daf5-4a2a9c7656d8"
      },
      "execution_count": 275,
      "outputs": [
        {
          "output_type": "stream",
          "name": "stdout",
          "text": [
            "Attitude Adjustment\n"
          ]
        }
      ]
    },
    {
      "cell_type": "code",
      "source": [
        "step_two = m3.split('<h4 style=\"margin:0;padding:0;\">')\n",
        "\n",
        "building_name = step_two[1].split(\"</h4>\")[0]\n",
        "print(building_name)"
      ],
      "metadata": {
        "colab": {
          "base_uri": "https://localhost:8080/"
        },
        "id": "GjnOovjWB4fH",
        "outputId": "b9c770bc-166b-4ca2-ae92-3f46f0371b56"
      },
      "execution_count": 276,
      "outputs": [
        {
          "output_type": "stream",
          "name": "stdout",
          "text": [
            "Our Lady of Lourdes Church\n"
          ]
        }
      ]
    },
    {
      "cell_type": "code",
      "source": [
        "step_three = m3.split(\"</b><br />\")\n",
        "\n",
        "meeting_address_indented = step_three[1].split(\",\")[0]\n",
        "\n",
        "meeting_address = meeting_address_indented.strip()\n",
        "\n",
        "print(meeting_address)"
      ],
      "metadata": {
        "colab": {
          "base_uri": "https://localhost:8080/"
        },
        "id": "45WpY_nkB6Zg",
        "outputId": "fd9732fc-e720-484a-d33d-c79d656cba48"
      },
      "execution_count": 277,
      "outputs": [
        {
          "output_type": "stream",
          "name": "stdout",
          "text": [
            "469 West 142nd Street\n"
          ]
        }
      ]
    },
    {
      "cell_type": "code",
      "source": [
        "step_four = m3.split(\"<br />(\")\n",
        "\n",
        "meeting_xstreets_indented = step_four[1].split(\") NY\")[0]\n",
        "\n",
        "meeting_xstreets = meeting_xstreets_indented.strip()\n",
        "\n",
        "print(meeting_xstreets)"
      ],
      "metadata": {
        "colab": {
          "base_uri": "https://localhost:8080/"
        },
        "id": "oTJjzkBcCEWO",
        "outputId": "3ccf0298-7e06-4198-d9b0-617232eefb77"
      },
      "execution_count": 278,
      "outputs": [
        {
          "output_type": "stream",
          "name": "stdout",
          "text": [
            "Betw Convent & Amsterdam Avenues\n"
          ]
        }
      ]
    },
    {
      "cell_type": "code",
      "source": [
        "step_five = m3.split(\"NY\")\n",
        "\n",
        "meeting_zip_indented = step_five[1].split(\"<br />\")[0]\n",
        "\n",
        "meeting_zip = meeting_zip_indented.strip()\n",
        "\n",
        "print(meeting_zip)"
      ],
      "metadata": {
        "colab": {
          "base_uri": "https://localhost:8080/"
        },
        "id": "dPC6FNmyCK9a",
        "outputId": "fc8776d4-30f9-44c7-afbd-16d28b5adfa0"
      },
      "execution_count": 280,
      "outputs": [
        {
          "output_type": "stream",
          "name": "stdout",
          "text": [
            "10031\n"
          ]
        }
      ]
    },
    {
      "cell_type": "code",
      "source": [
        "if \"Wheelchair access\" in m3:\n",
        "  meeting_wheelaccess = \"Access\"\n",
        "else:\n",
        "  meeting_wheelaccess = \"No access\"\n",
        "\n",
        "print(meeting_wheelaccess)"
      ],
      "metadata": {
        "colab": {
          "base_uri": "https://localhost:8080/"
        },
        "id": "B1FW5OhYCRnb",
        "outputId": "f3deb4bf-c684-4760-e161-e0aaa877051a"
      },
      "execution_count": 285,
      "outputs": [
        {
          "output_type": "stream",
          "name": "stdout",
          "text": [
            "No access\n"
          ]
        }
      ]
    },
    {
      "cell_type": "code",
      "source": [
        "step_seven = m3.split('<td style=\"border-bottom:1px solid #e3e3e3;width:350px;\" valign=\"top\">')\n",
        "\n",
        "meeting_day = []\n",
        "\n",
        "for meeting in step_seven:\n",
        "  if \"Mondays\" in meeting:\n",
        "    meeting_day.append(\"Monday\")\n",
        "  if \"Tuesdays\" in meeting:\n",
        "    meeting_day.append(\"Tuesday\")\n",
        "  if \"Wednesdays\" in meeting:\n",
        "    meeting_day.append(\"Wednesday\")\n",
        "  if \"Thursdays\" in meeting:\n",
        "    meeting_day.append(\"Thursday\")\n",
        "  if \"Fridays\" in meeting:\n",
        "    meeting_day.append(\"Friday\")\n",
        "  if \"Saturdays\" in meeting:\n",
        "    meeting_day.append(\"Saturday\")\n",
        "  if \"Sundays\" in meeting:\n",
        "    meeting_day.append(\"Sunday\")\n",
        "\n",
        "print(meeting_day)"
      ],
      "metadata": {
        "colab": {
          "base_uri": "https://localhost:8080/"
        },
        "id": "V8Aedvn_DgXC",
        "outputId": "f480e4a5-2b3f-495a-d402-f6a1fe6785ac"
      },
      "execution_count": 292,
      "outputs": [
        {
          "output_type": "stream",
          "name": "stdout",
          "text": [
            "['Saturday']\n"
          ]
        }
      ]
    },
    {
      "cell_type": "code",
      "source": [
        "meeting_start = []\n",
        "\n",
        "step_eight = step_seven[1].split(\"From</b>\")\n",
        "\n",
        "for start in step_eight:\n",
        "    get_start = start.split(\"<b>to</b>\")[0].strip()\n",
        "    if \"days\" not in get_start:\n",
        "        meeting_start.append(get_start)\n",
        "\n",
        "print(meeting_start)"
      ],
      "metadata": {
        "colab": {
          "base_uri": "https://localhost:8080/"
        },
        "id": "hIooNGkYD6Ix",
        "outputId": "67d3dbc3-7ff5-45fd-b4c6-2af85e423850"
      },
      "execution_count": 293,
      "outputs": [
        {
          "output_type": "stream",
          "name": "stdout",
          "text": [
            "['7:30 AM']\n"
          ]
        }
      ]
    },
    {
      "cell_type": "code",
      "source": [
        "meeting_end = []\n",
        "\n",
        "step_nine = step_seven[1].split(\"<b>to</b>\")\n",
        "\n",
        "for time in step_nine:\n",
        "  get_end = time.split(\"<br /><b>Meeting Type</b>\")[0].strip()\n",
        "  if \"days\" not in get_end:\n",
        "    meeting_end.append(get_end)\n",
        "\n",
        "print(meeting_end)"
      ],
      "metadata": {
        "colab": {
          "base_uri": "https://localhost:8080/"
        },
        "id": "2dQkqrgYEFAV",
        "outputId": "2a16e173-cb9d-48b1-9dd1-9f8d7c14c467"
      },
      "execution_count": 294,
      "outputs": [
        {
          "output_type": "stream",
          "name": "stdout",
          "text": [
            "['8:30 AM']\n"
          ]
        }
      ]
    },
    {
      "cell_type": "code",
      "source": [
        "meeting_type = []\n",
        "\n",
        "step_ten = step_seven[1].split(\"<b>Meeting Type</b>\")\n",
        "\n",
        "for meeting in step_ten:\n",
        "  get_meeting_type = meeting.split(\"<br />\")[0].strip()\n",
        "  if \"<b>\" not in get_meeting_type:\n",
        "    meeting_type.append(get_meeting_type)\n",
        "\n",
        "print(meeting_type)"
      ],
      "metadata": {
        "colab": {
          "base_uri": "https://localhost:8080/"
        },
        "id": "zNeTQalUEJek",
        "outputId": "b1f31ba7-abfc-42c4-f87c-d520451c58e7"
      },
      "execution_count": 295,
      "outputs": [
        {
          "output_type": "stream",
          "name": "stdout",
          "text": [
            "['OD = Open Discussion meeting']\n"
          ]
        }
      ]
    },
    {
      "cell_type": "code",
      "source": [
        "print(m3)"
      ],
      "metadata": {
        "colab": {
          "base_uri": "https://localhost:8080/"
        },
        "id": "tZXbzI97Wjai",
        "outputId": "3e457ec9-4680-4701-8c6c-802931191036"
      },
      "execution_count": null,
      "outputs": [
        {
          "output_type": "stream",
          "name": "stdout",
          "text": [
            "\n",
            "                  <tr style=\"margin-bottom:10px\">\n",
            "                    <td style=\"border-bottom:1px solid #e3e3e3; width:260px\" valign=\"top\">\n",
            "                    \t<h4 style=\"margin:0;padding:0;\">Our Lady of Lourdes Church</h4><br />\n",
            "\t\t\t\t  \t    <b>ATTITUDE ADJUSTMENT - Attitude Adjustment</b><br />\n",
            "\t\t\t\t\t\t469 West 142nd Street, Basement, \n",
            "\t\t\t\t\t\t<br />(Betw Convent & Amsterdam Avenues) NY 10031\n",
            "\t\t\t\t\t\t<br />\n",
            "\t\t\t\t\t\t<br />\n",
            "                        \n",
            "                        <div class=\"detailsBox\"> \n",
            "                        \tTopic 1st Saturday. \n",
            "                        </div>\n",
            "                        \n",
            "\t\t\t\t\t\t\n",
            "                    </td>\n",
            "                    <td style=\"border-bottom:1px solid #e3e3e3;width:350px;\" valign=\"top\">\n",
            "                   \t \t\n",
            "\t\t\t\t  \t    <b>Saturdays From</b>  7:30 AM <b>to</b> 8:30 AM <br /><b>Meeting Type</b> OD = Open Discussion meeting \n",
            "\t\t\t \t\t\t<br />\n",
            "                    \t<br />\n",
            "                    \t\t\n",
            "\t\t\t\t\t</td> \n",
            "                    <td style=\"border-bottom:1px solid #dedede; width:90px; \">\n",
            "                    \t<a href=\"getdirections.cfm?meetingid=58\" class=\"GetDirections\">Get Directions</a>\n",
            "                    </td>\n",
            "                  </tr>\n",
            "\n"
          ]
        }
      ]
    },
    {
      "cell_type": "code",
      "source": [],
      "metadata": {
        "id": "q5S1BwCLWsEd"
      },
      "execution_count": null,
      "outputs": []
    }
  ]
}